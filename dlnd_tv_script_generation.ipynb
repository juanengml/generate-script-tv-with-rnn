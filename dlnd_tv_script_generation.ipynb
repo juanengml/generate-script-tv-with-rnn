{
 "cells": [
  {
   "cell_type": "markdown",
   "metadata": {
    "deletable": true,
    "editable": true
   },
   "source": [
    "# Geração de scripts de TV\n",
    "Neste projeto, você gerará seus próprios scripts de TV [Simpsons] (https://en.wikipedia.org/wiki/The_Simpsons) usando RNNs. Você estará usando parte do [conjunto de dados Simpsons] (https://www.kaggle.com/wcukierski/the-simpsons-by-the-data) de scripts de 27 temporadas. A Rede Neural que você irá construir irá gerar um novo roteiro de TV para uma cena em [Moe's Tavern] (https://simpsonswiki.com/wiki/Moe's_Tavern).\n",
    "## Obtém os dados\n",
    "Os dados já são fornecidos para você. Você estará usando um subconjunto do conjunto de dados original. Consiste apenas nas cenas da Taverna de Moe. Isso não inclui outras versões da taverna, como \"Moe's Cavern\", \"Flame Moe's\", \"Uncle Moe's Family Feed-Bag\", etc."
   ]
  },
  {
   "cell_type": "code",
   "execution_count": 16,
   "metadata": {
    "collapsed": false,
    "deletable": true,
    "editable": true
   },
   "outputs": [
    {
     "data": {
      "text/plain": [
       "'1.1.0'"
      ]
     },
     "execution_count": 16,
     "metadata": {},
     "output_type": "execute_result"
    }
   ],
   "source": [
    "import tensorflow as tf\n",
    "tf.__version__"
   ]
  },
  {
   "cell_type": "code",
   "execution_count": 17,
   "metadata": {
    "collapsed": true,
    "deletable": true,
    "editable": true
   },
   "outputs": [],
   "source": [
    "\"\"\"\n",
    "DON'T MODIFY ANYTHING IN THIS CELL\n",
    "\"\"\"\n",
    "import helper\n",
    "\n",
    "data_dir = './data/simpsons/moes_tavern_lines.txt'\n",
    "text = helper.load_data(data_dir)\n",
    "# Ignore notice, since we don't use it for analysing the data\n",
    "text = text[81:]"
   ]
  },
  {
   "cell_type": "markdown",
   "metadata": {
    "deletable": true,
    "editable": true
   },
   "source": [
    "## Explore the Data\n",
    "Play around with `view_sentence_range` to view different parts of the data."
   ]
  },
  {
   "cell_type": "code",
   "execution_count": 3,
   "metadata": {
    "collapsed": false,
    "deletable": true,
    "editable": true
   },
   "outputs": [
    {
     "name": "stdout",
     "output_type": "stream",
     "text": [
      "numpy==1.12.1\r\n"
     ]
    }
   ],
   "source": [
    "!cat requirements.txt | grep numpy "
   ]
  },
  {
   "cell_type": "code",
   "execution_count": 9,
   "metadata": {
    "collapsed": false,
    "deletable": true,
    "editable": true
   },
   "outputs": [
    {
     "name": "stdout",
     "output_type": "stream",
     "text": [
      "Collecting numpy\n",
      "  Using cached https://files.pythonhosted.org/packages/f5/bf/4981bcbee43934f0adb8f764a1e70ab0ee5a448f6505bd04a87a2fda2a8b/numpy-1.16.1-cp36-cp36m-manylinux1_x86_64.whl\n",
      "Installing collected packages: numpy\n",
      "Successfully installed numpy-1.16.1\n"
     ]
    }
   ],
   "source": [
    "!pip3 install --upgrade numpy"
   ]
  },
  {
   "cell_type": "code",
   "execution_count": 14,
   "metadata": {
    "collapsed": false,
    "deletable": true,
    "editable": true
   },
   "outputs": [],
   "source": [
    "#!pip3 uninstall numpy"
   ]
  },
  {
   "cell_type": "code",
   "execution_count": 18,
   "metadata": {
    "collapsed": false,
    "deletable": true,
    "editable": true
   },
   "outputs": [
    {
     "name": "stdout",
     "output_type": "stream",
     "text": [
      "Dataset Stats\n",
      "Roughly the number of unique words: 11492\n",
      "Number of scenes: 262\n",
      "Average number of sentences in each scene: 15.248091603053435\n",
      "Number of lines: 4257\n",
      "Average number of words in each line: 11.50434578341555\n",
      "\n",
      "The sentences 0 to 10:\n",
      "Moe_Szyslak: (INTO PHONE) Moe's Tavern. Where the elite meet to drink.\n",
      "Bart_Simpson: Eh, yeah, hello, is Mike there? Last name, Rotch.\n",
      "Moe_Szyslak: (INTO PHONE) Hold on, I'll check. (TO BARFLIES) Mike Rotch. Mike Rotch. Hey, has anybody seen Mike Rotch, lately?\n",
      "Moe_Szyslak: (INTO PHONE) Listen you little puke. One of these days I'm gonna catch you, and I'm gonna carve my name on your back with an ice pick.\n",
      "Moe_Szyslak: What's the matter Homer? You're not your normal effervescent self.\n",
      "Homer_Simpson: I got my problems, Moe. Give me another one.\n",
      "Moe_Szyslak: Homer, hey, you should not drink to forget your problems.\n",
      "Barney_Gumble: Yeah, you should only drink to enhance your social skills.\n",
      "\n",
      "\n"
     ]
    }
   ],
   "source": [
    "view_sentence_range = (0, 10)\n",
    "\n",
    "\"\"\"\n",
    "DON'T MODIFY ANYTHING IN THIS CELL\n",
    "\"\"\"\n",
    "import numpy as np\n",
    "\n",
    "print('Dataset Stats')\n",
    "print('Roughly the number of unique words: {}'.format(len({word: None for word in text.split()})))\n",
    "scenes = text.split('\\n\\n')\n",
    "print('Number of scenes: {}'.format(len(scenes)))\n",
    "sentence_count_scene = [scene.count('\\n') for scene in scenes]\n",
    "print('Average number of sentences in each scene: {}'.format(np.average(sentence_count_scene)))\n",
    "\n",
    "sentences = [sentence for scene in scenes for sentence in scene.split('\\n')]\n",
    "print('Number of lines: {}'.format(len(sentences)))\n",
    "word_count_sentence = [len(sentence.split()) for sentence in sentences]\n",
    "print('Average number of words in each line: {}'.format(np.average(word_count_sentence)))\n",
    "\n",
    "print()\n",
    "print('The sentences {} to {}:'.format(*view_sentence_range))\n",
    "print('\\n'.join(text.split('\\n')[view_sentence_range[0]:view_sentence_range[1]]))"
   ]
  },
  {
   "cell_type": "markdown",
   "metadata": {
    "deletable": true,
    "editable": true
   },
   "source": [
    "## Implementar funções de pré-processamento\n",
    "A primeira coisa a fazer em qualquer conjunto de dados é o pré-processamento. Implemente as seguintes funções de pré-processamento abaixo:\n",
    "- Tabela de pesquisa\n",
    "- Tokenize pontuação\n",
    "\n",
    "### Tabela de pesquisa\n",
    "Para criar uma incorporação de palavras, você primeiro precisa transformar as palavras em ids. Nesta função, crie dois dicionários:\n",
    "- Dicionário para ir das palavras para um id, vamos chamar `vocab_to_int`\n",
    "- Dicionário para ir do id para a palavra, vamos chamar `int_to_vocab`\n",
    "\n",
    "Devolve estes dicionários na seguinte tupla `(vocab_to_int, int_to_vocab)`"
   ]
  },
  {
   "cell_type": "code",
   "execution_count": 19,
   "metadata": {
    "collapsed": false,
    "deletable": true,
    "editable": true
   },
   "outputs": [
    {
     "name": "stdout",
     "output_type": "stream",
     "text": [
      "Tests Passed\n"
     ]
    }
   ],
   "source": [
    "import numpy as np\n",
    "import problem_unittests as tests\n",
    "from collections import Counter\n",
    "\n",
    "def create_lookup_tables(text):\n",
    "    \"\"\"\n",
    "    Create lookup tables for vocabulary\n",
    "    :param text: The text of tv scripts split into words\n",
    "    :return: A tuple of dicts (vocab_to_int, int_to_vocab)\n",
    "    \"\"\"\n",
    "    # Implement Function\n",
    "    cnts = Counter(text)\n",
    "    vocab = sorted(cnts, key=cnts.get, reverse=True)\n",
    "    vocab_to_int = {word: ix for ix, word in enumerate(vocab)}\n",
    "    int_to_vocab = {ix: word for word, ix in vocab_to_int.items()}\n",
    "    return vocab_to_int, int_to_vocab\n",
    "\n",
    "\n",
    "\"\"\"\n",
    "DON'T MODIFY ANYTHING IN THIS CELL THAT IS BELOW THIS LINE\n",
    "\"\"\"\n",
    "tests.test_create_lookup_tables(create_lookup_tables)"
   ]
  },
  {
   "cell_type": "markdown",
   "metadata": {
    "deletable": true,
    "editable": true
   },
   "source": [
    "### Tokenize Punctuation\n",
    "Estaremos dividindo o script em um array de palavras usando espaços como delimitadores. No entanto, pontuações como períodos e pontos de exclamação tornam difícil para a rede neural distinguir entre a palavra \"bye\" e \"bye!\".\n",
    "\n",
    "Implemente a função `token_lookup` para retornar um comando que será usado para tokenizar símbolos como\"! \" em \"|| Exclamation_Mark ||\". Crie um dicionário para os seguintes símbolos, onde o símbolo é a chave e o valor é o token:\n",
    "- Período (.)\n",
    "- vírgula (,)\n",
    "- Aspa ( \" )\n",
    "- ponto e vírgula (;)\n",
    "- Ponto de exclamação ( ! )\n",
    "- Ponto de interrogação ( ? )\n",
    "- Parêntese esquerdo (()\n",
    "- Parênteses direitos ())\n",
    "- traço (-)\n",
    "- retorno (\\ n)\n",
    "\n",
    "Este dicionário será usado para simbolizar os símbolos e adicionar o delimitador (espaço) ao redor dele. Isso separa os símbolos como sua própria palavra, facilitando a previsão da rede neural na próxima palavra. Certifique-se de não usar um token que possa ser confundido como uma palavra. Em vez de usar o token \"dash\", tente usar algo como \"|| dash ||\"."
   ]
  },
  {
   "cell_type": "code",
   "execution_count": 20,
   "metadata": {
    "collapsed": false,
    "deletable": true,
    "editable": true
   },
   "outputs": [
    {
     "name": "stdout",
     "output_type": "stream",
     "text": [
      "Tests Passed\n"
     ]
    }
   ],
   "source": [
    "def token_lookup():\n",
    "    \"\"\"\n",
    "    Generate a dict to turn punctuation into a token.\n",
    "    :return: Tokenize dictionary where the key is the punctuation and the value is the token\n",
    "    \"\"\"\n",
    "    return {'.':'||Period||',\n",
    "            ',':'||Comma||',\n",
    "            '\"':'||Quotation_Mark||',\n",
    "            ';':'||Semicolon||', \n",
    "            '!':'||Exclamation_Mark||',\n",
    "            '?':'||Question_Mark||', \n",
    "            '(':'||Left_Parentheses||', \n",
    "            ')':'||Right_Parentheses||',\n",
    "            '--':'||Dash||',\n",
    "            '\\n':'||Return||'}\n",
    "\n",
    "\"\"\"\n",
    "DON'T MODIFY ANYTHING IN THIS CELL THAT IS BELOW THIS LINE\n",
    "\"\"\"\n",
    "tests.test_tokenize(token_lookup)"
   ]
  },
  {
   "cell_type": "markdown",
   "metadata": {
    "deletable": true,
    "editable": true
   },
   "source": [
    "## Pré-processe todos os dados e salve-os\n",
    "A execução da célula de código abaixo irá pré-processar todos os dados e salvá-los no arquivo."
   ]
  },
  {
   "cell_type": "code",
   "execution_count": 21,
   "metadata": {
    "collapsed": false,
    "deletable": true,
    "editable": true
   },
   "outputs": [],
   "source": [
    "\"\"\"\n",
    "DON'T MODIFY ANYTHING IN THIS CELL\n",
    "\"\"\"\n",
    "# Preprocess Training, Validation, and Testing Data\n",
    "helper.preprocess_and_save_data(data_dir, token_lookup, create_lookup_tables)"
   ]
  },
  {
   "cell_type": "markdown",
   "metadata": {
    "deletable": true,
    "editable": true
   },
   "source": [
    "# Check Point\n",
    "Este é seu primeiro checkpoint. Se você decidir voltar a este notebook ou precisar reiniciar o notebook, poderá começar a partir daqui. Os dados pré-processados ​​foram salvos no disco."
   ]
  },
  {
   "cell_type": "code",
   "execution_count": 23,
   "metadata": {
    "collapsed": true,
    "deletable": true,
    "editable": true
   },
   "outputs": [],
   "source": [
    "\"\"\"\n",
    "DON'T MODIFY ANYTHING IN THIS CELL\n",
    "\"\"\"\n",
    "import helper\n",
    "import numpy as np\n",
    "import problem_unittests as tests\n",
    "\n",
    "int_text, vocab_to_int, int_to_vocab, token_dict = helper.load_preprocess()"
   ]
  },
  {
   "cell_type": "markdown",
   "metadata": {
    "deletable": true,
    "editable": true
   },
   "source": [
    "## Construa a Rede Neural\n",
    "Você construirá os componentes necessários para construir um RNN implementando as seguintes funções abaixo:\n",
    "- get_inputs\n",
    "- get_init_cell\n",
    "- get_embed\n",
    "- build_rnn\n",
    "- build_nn\n",
    "- get_batches\n",
    "\n",
    "### Verifique a versão do TensorFlow e acesse o GPU"
   ]
  },
  {
   "cell_type": "code",
   "execution_count": 24,
   "metadata": {
    "collapsed": false,
    "deletable": true,
    "editable": true
   },
   "outputs": [
    {
     "name": "stdout",
     "output_type": "stream",
     "text": [
      "TensorFlow Version: 1.1.0\n"
     ]
    },
    {
     "name": "stderr",
     "output_type": "stream",
     "text": [
      "/home/joana/.local/lib/python3.6/site-packages/ipykernel/__main__.py:14: UserWarning: No GPU found. Please use a GPU to train your neural network.\n"
     ]
    }
   ],
   "source": [
    "\"\"\"\n",
    "DON'T MODIFY ANYTHING IN THIS CELL\n",
    "\"\"\"\n",
    "from distutils.version import LooseVersion\n",
    "import warnings\n",
    "import tensorflow as tf\n",
    "\n",
    "# Check TensorFlow Version\n",
    "assert LooseVersion(tf.__version__) >= LooseVersion('1.0'), 'Please use TensorFlow version 1.0 or newer'\n",
    "print('TensorFlow Version: {}'.format(tf.__version__))\n",
    "\n",
    "# Check for a GPU\n",
    "if not tf.test.gpu_device_name():\n",
    "    warnings.warn('No GPU found. Please use a GPU to train your neural network.')\n",
    "else:\n",
    "    print('Default GPU Device: {}'.format(tf.test.gpu_device_name()))"
   ]
  },
  {
   "cell_type": "markdown",
   "metadata": {
    "deletable": true,
    "editable": true
   },
   "source": [
    "### Entrada\n",
    "Implementar o `\n",
    "get_inputs () `para criar espaços reservados para TF para a rede neural. Deve criar os seguintes marcadores de posição:\n",
    "- Espaço reservado para entrada de texto chamado \"input\" usando o parâmetro [TF Placeholder] (https://www.tensorflow.org/api_docs/python/tf/placeholder) `name`.\n",
    "- Espaço reservado para alvos\n",
    "- Espaço reservado para Learning Rate\n",
    "\n",
    "Retorna os placeholders na seguinte tupla `(Input, Targets, LearningRate)`"
   ]
  },
  {
   "cell_type": "code",
   "execution_count": 25,
   "metadata": {
    "collapsed": false,
    "deletable": true,
    "editable": true
   },
   "outputs": [
    {
     "name": "stdout",
     "output_type": "stream",
     "text": [
      "Tests Passed\n"
     ]
    }
   ],
   "source": [
    "def get_inputs():\n",
    "    \"\"\"\n",
    "    Create TF Placeholders for input, targets, and learning rate.\n",
    "    :return: Tuple (input, targets, learning rate)\n",
    "    \"\"\"\n",
    "    # Implement Function\n",
    "    Entrada = tf.placeholder(tf.int32, [None, None], name='input')\n",
    "    Alvo = tf.placeholder(tf.int32, [None, None], name='targets')\n",
    "    NivelDeAprendizado = tf.placeholder(tf.float32, name='learning_rate')\n",
    "    return Entrada, Alvo, NivelDeAprendizado\n",
    "\n",
    "\n",
    "\"\"\"\n",
    "DON'T MODIFY ANYTHING IN THIS CELL THAT IS BELOW THIS LINE\n",
    "\"\"\"\n",
    "tests.test_get_inputs(get_inputs)"
   ]
  },
  {
   "cell_type": "markdown",
   "metadata": {
    "deletable": true,
    "editable": true
   },
   "source": [
    "### Construir Célula RNN e Inicializar\n",
    "Empilhe uma ou mais [`BasicLSTMCells`] (https://www.tensorflow.org/api_docs/python/tf/contrib/rnn/BasicLSTMCell) em um [` MultiRNNCell`] (https://www.tensorflow.org/ api_docs / python / tf / contrib / rnn / MultiRNNCell).\n",
    "- O tamanho do Rnn deve ser definido usando `rnn_size`\n",
    "- Initalize Cell State usando a função [`zero_state ()`] (https://www.tensorflow.org/api_docs/python/tf/contrib/rnn/MultiRNNCell#zero_state) do MultiRNNCell\n",
    "    - Aplique o nome \"initial_state\" ao estado inicial usando [`tf.identity ()`] (https://www.tensorflow.org/api_docs/python/tf/identity)\n",
    "\n",
    "Retorna a célula e o estado inicial na seguinte tupla `(Cell, InitialState)`"
   ]
  },
  {
   "cell_type": "code",
   "execution_count": 26,
   "metadata": {
    "collapsed": false,
    "deletable": true,
    "editable": true
   },
   "outputs": [
    {
     "name": "stdout",
     "output_type": "stream",
     "text": [
      "Tests Passed\n"
     ]
    }
   ],
   "source": [
    "def get_init_cell(batch_size, rnn_size):\n",
    "    \"\"\"\n",
    "    Create an RNN Cell and initialize it.\n",
    "    :param batch_size: Size of batches\n",
    "    :param rnn_size: Size of RNNs\n",
    "    :return: Tuple (cell, initialize state)\n",
    "    \"\"\"\n",
    "    ## definindo LSTM e CELULA\n",
    "    lstm = tf.contrib.rnn.BasicLSTMCell(rnn_size)\n",
    "    cell = tf.contrib.rnn.MultiRNNCell([lstm] * 1) \n",
    "    \n",
    "    ## estagio zero do rolé e estado inicial\n",
    "    zero_state = cell.zero_state(batch_size, tf.float32)\n",
    "    initial_state = tf.identity(zero_state, name=\"initial_state\")\n",
    "    \n",
    "    return cell, initial_state\n",
    "\n",
    "\n",
    "\"\"\"\n",
    "DON'T MODIFY ANYTHING IN THIS CELL THAT IS BELOW THIS LINE\n",
    "\"\"\"\n",
    "tests.test_get_init_cell(get_init_cell)"
   ]
  },
  {
   "cell_type": "markdown",
   "metadata": {
    "deletable": true,
    "editable": true
   },
   "source": [
    "### Incorporação de palavras\n",
    "Aplique a incorporação ao `input_data` usando o TensorFlow. Retornar a seqüência incorporada."
   ]
  },
  {
   "cell_type": "code",
   "execution_count": 29,
   "metadata": {
    "collapsed": false,
    "deletable": true,
    "editable": true
   },
   "outputs": [
    {
     "name": "stdout",
     "output_type": "stream",
     "text": [
      "Tests Passed\n"
     ]
    }
   ],
   "source": [
    "def get_embed(input_data, vocab_size, embed_dim):\n",
    "    \"\"\"\n",
    "    Create embedding for <input_data>.\n",
    "    :param input_data: TF placeholder for text input.\n",
    "    :param vocab_size: Number of words in vocabulary.\n",
    "    :param embed_dim: Number of embedding dimensions\n",
    "    :return: Embedded input.\n",
    "    \"\"\"\n",
    "    # Implement Function\n",
    "    embedding = tf.Variable(tf.random_uniform([vocab_size, embed_dim], -1, 1))\n",
    "    embed = tf.nn.embedding_lookup(embedding, input_data)\n",
    "    return embed\n",
    "\n",
    "\n",
    "\"\"\"\n",
    "DON'T MODIFY ANYTHING IN THIS CELL THAT IS BELOW THIS LINE\n",
    "\"\"\"\n",
    "tests.test_get_embed(get_embed)"
   ]
  },
  {
   "cell_type": "markdown",
   "metadata": {
    "deletable": true,
    "editable": true
   },
   "source": [
    "### Construir RNN\n",
    "Você criou uma célula RNN na função `get_init_cell ()`. Hora de usar a célula para criar um RNN.\n",
    "- Construa o RNN usando o [`tf.nn.dynamic_rnn ()`] (https://www.tensorflow.org/api_docs/python/tf/nn/dynamic_rnn)\n",
    " - Aplique o nome \"final_state\" ao estado final usando [`tf.identity ()`] (https://www.tensorflow.org/api_docs/python/tf/identity)\n",
    "\n",
    "Retorna as saídas e o estado final_state na seguinte tupla `(Saídas, FinalState)`"
   ]
  },
  {
   "cell_type": "code",
   "execution_count": 32,
   "metadata": {
    "collapsed": false,
    "deletable": true,
    "editable": true
   },
   "outputs": [
    {
     "name": "stdout",
     "output_type": "stream",
     "text": [
      "Tests Passed\n"
     ]
    }
   ],
   "source": [
    "def build_rnn(cell, inputs):\n",
    "    \"\"\"\n",
    "    Create a RNN using a RNN Cell\n",
    "    :param cell: RNN Cell\n",
    "    :param inputs: Input text data\n",
    "    :return: Tuple (Outputs, Final State)\n",
    "    \"\"\"\n",
    "    Outputs, Final_State = tf.nn.dynamic_rnn(cell, inputs, dtype=tf.float32)\n",
    "    Final_State = tf.identity(Final_State, name='final_state')\n",
    "    return Outputs, Final_State\n",
    "\n",
    "\n",
    "\"\"\"\n",
    "DON'T MODIFY ANYTHING IN THIS CELL THAT IS BELOW THIS LINE\n",
    "\"\"\"\n",
    "tests.test_build_rnn(build_rnn)"
   ]
  },
  {
   "cell_type": "markdown",
   "metadata": {
    "deletable": true,
    "editable": true
   },
   "source": [
    "### Construa a Rede Neural\n",
    "Aplique as funções que você implementou acima para:\n",
    "- Aplicar incorporação ao `input_data` usando sua função` get_embed (input_data, vocab_size, embed_dim) `.\n",
    "- Construa RNN usando `cell` e sua função` build_rnn (cell, inputs) `.\n",
    "- Aplique uma camada conectada _com uma ativação _linear_ e `vocab_size` como o número de saídas.\n",
    "\n",
    "Retorna os logits e o estado final na seguinte tupla (Logits, FinalState)"
   ]
  },
  {
   "cell_type": "code",
   "execution_count": 34,
   "metadata": {
    "collapsed": false,
    "deletable": true,
    "editable": true
   },
   "outputs": [
    {
     "name": "stdout",
     "output_type": "stream",
     "text": [
      "Tests Passed\n"
     ]
    }
   ],
   "source": [
    "def build_nn(cell, rnn_size, input_data, vocab_size, embed_dim):\n",
    "    \"\"\"\n",
    "    Build part of the neural network\n",
    "    :param cell: RNN cell\n",
    "    :param rnn_size: Size of rnns\n",
    "    :param input_data: Input data\n",
    "    :param vocab_size: Vocabulary size\n",
    "    :param embed_dim: Number of embedding dimensions\n",
    "    :return: Tuple (Logits, FinalState)\n",
    "    \"\"\"\n",
    "    # Implement Function\n",
    "    embed = get_embed(input_data, vocab_size, embed_dim)\n",
    "    Output, Final_State = build_rnn(cell, embed)\n",
    "    Logits = tf.contrib.layers.fully_connected(Output, vocab_size, activation_fn=None)\n",
    "    return Logits, Final_State\n",
    "\n",
    "\n",
    "\"\"\"\n",
    "DON'T MODIFY ANYTHING IN THIS CELL THAT IS BELOW THIS LINE\n",
    "\"\"\"\n",
    "tests.test_build_nn(build_nn)"
   ]
  },
  {
   "cell_type": "markdown",
   "metadata": {
    "deletable": true,
    "editable": true
   },
   "source": [
    "### Lotes\n",
    "Implemente `get_batches` para criar lotes de entrada e de destino usando` int_text`. Os lotes devem ser um array Numpy com a forma `(número de lotes, 2, tamanho do lote, comprimento da seqüência)`. Cada lote contém dois elementos:\n",
    "- O primeiro elemento é um único lote de ** entrada ** com a forma `[tamanho do lote, comprimento da sequência]`\n",
    "- O segundo elemento é um único lote de ** destinos ** com a forma `[tamanho do lote, comprimento da sequência]`\n",
    "\n",
    "Se você não puder preencher o último lote com dados suficientes, elimine o último lote.\n",
    "\n",
    "Por exemplo, `get_batches ([1, 2, 3, 4, 5, 6, 7, 8, 9, 10, 11, 12, 13, 14, 15, 16, 17, 18, 19, 20], 3, 2) `retornaria uma matriz Numpy dos seguintes:\n",
    "`` `\n",
    "[\n",
    "  # Primeiro lote\n",
    "  [\n",
    "    # Lote de entrada\n",
    "    [[1 2], [7 8], [13 14]]\n",
    "    # Lote de alvos\n",
    "    [[2 3], [8 9], [14 15]]\n",
    "  ]\n",
    "\n",
    "  # Segundo lote\n",
    "  [\n",
    "    # Lote de entrada\n",
    "    [[3 4], [9 10], [15 16]]\n",
    "    # Lote de alvos\n",
    "    [[4 5], [10 11], [16 17]]\n",
    "  ]\n",
    "\n",
    "  # Terceiro lote\n",
    "  [\n",
    "    # Lote de entrada\n",
    "    [[5 6], [11 12], [17 18]]\n",
    "    # Lote de alvos\n",
    "    [[6 7], [12 13], [18 1]]\n",
    "  ]\n",
    "]\n",
    "`` `\n",
    "\n",
    "Observe que o último valor de destino no último lote é o primeiro valor de entrada do primeiro lote. Neste caso, `1`. Essa é uma técnica comum usada na criação de lotes de sequências, embora não seja intuitiva."
   ]
  },
  {
   "cell_type": "code",
   "execution_count": 47,
   "metadata": {
    "collapsed": true,
    "deletable": true,
    "editable": true
   },
   "outputs": [],
   "source": [
    "def get_batches(int_text, batch_size, seq_length):\n",
    "    Chunk_Size = batch_size * seq_length\n",
    "    Numbers_Chunks = len(int_text) // Chunk_Size\n",
    "    if (Numbers_Chunks*Chunk_Size==len(int_text)): int_text = int_text + int_text[0:1]\n",
    "    else: int_text[Numbers_Chunks*Chunk_Size] = int_text[0]\n",
    "    si = [i for i in range(0, len(int_text)-seq_length+1, seq_length)]\n",
    "    batches = []\n",
    "    for i in range(Numbers_Chunks):\n",
    "        x = [] \n",
    "        y = [] \n",
    "        for j in range(batch_size):\n",
    "            start = si[j*Numbers_Chunks + i]\n",
    "            x.append(int_text[start:start+seq_length])\n",
    "            start += 1\n",
    "            y.append(int_text[start:start+seq_length])\n",
    "        batches.append([x, y])\n",
    "    return np.array(batches)"
   ]
  },
  {
   "cell_type": "code",
   "execution_count": 48,
   "metadata": {
    "collapsed": false,
    "deletable": true,
    "editable": true
   },
   "outputs": [
    {
     "name": "stdout",
     "output_type": "stream",
     "text": [
      "Tests Passed\n"
     ]
    }
   ],
   "source": [
    "\"\"\"\n",
    "DON'T MODIFY ANYTHING IN THIS CELL THAT IS BELOW THIS LINE\n",
    "\"\"\"\n",
    "tests.test_get_batches(get_batches)"
   ]
  },
  {
   "cell_type": "markdown",
   "metadata": {
    "deletable": true,
    "editable": true
   },
   "source": [
    "## Neural Network Training\n",
    "### Hyperparameters\n",
    "Tune the following parameters:\n",
    "\n",
    "- Set `num_epochs` to the number of epochs.\n",
    "- Set `batch_size` to the batch size.\n",
    "- Set `rnn_size` to the size of the RNNs.\n",
    "- Set `embed_dim` to the size of the embedding.\n",
    "- Set `seq_length` to the length of sequence.\n",
    "- Set `learning_rate` to the learning rate.\n",
    "- Set `show_every_n_batches` to the number of batches the neural network should print progress."
   ]
  },
  {
   "cell_type": "code",
   "execution_count": 65,
   "metadata": {
    "collapsed": true,
    "deletable": true,
    "editable": true
   },
   "outputs": [],
   "source": [
    "# Number of Epochs\n",
    "num_epochs = 50\n",
    "# Batch Size\n",
    "batch_size = 128\n",
    "# RNN Size\n",
    "rnn_size = 1024\n",
    "# Sequence Length\n",
    "seq_length = 16\n",
    "# Learning Rate\n",
    "learning_rate = 0.001\n",
    "# Show stats for every n number of batches\n",
    "show_every_n_batches = 11\n",
    "\n",
    "\"\"\"DON'T MODIFY ANYTHING IN THIS CELL THAT IS BELOW THIS LINE\n",
    "\"\"\"\n",
    "save_dir = './save'"
   ]
  },
  {
   "cell_type": "markdown",
   "metadata": {
    "deletable": true,
    "editable": true
   },
   "source": [
    "### Build the Graph\n",
    "Build the graph using the neural network you implemented."
   ]
  },
  {
   "cell_type": "code",
   "execution_count": 66,
   "metadata": {
    "collapsed": true,
    "deletable": true,
    "editable": true
   },
   "outputs": [],
   "source": [
    "\"\"\"\n",
    "DON'T MODIFY ANYTHING IN THIS CELL\n",
    "\"\"\"\n",
    "from tensorflow.contrib import seq2seq\n",
    "\n",
    "train_graph = tf.Graph()\n",
    "with train_graph.as_default():\n",
    "    vocab_size = len(int_to_vocab)\n",
    "    input_text, targets, lr = get_inputs()\n",
    "    input_data_shape = tf.shape(input_text)\n",
    "    cell, initial_state = get_init_cell(input_data_shape[0], rnn_size)\n",
    "    logits, final_state = build_nn(cell, rnn_size, input_text, vocab_size, embed_dim)\n",
    "\n",
    "    # Probabilities for generating words\n",
    "    probs = tf.nn.softmax(logits, name='probs')\n",
    "\n",
    "    # Loss function\n",
    "    cost = seq2seq.sequence_loss(\n",
    "        logits,\n",
    "        targets,\n",
    "        tf.ones([input_data_shape[0], input_data_shape[1]]))\n",
    "\n",
    "    # Optimizer\n",
    "    optimizer = tf.train.AdamOptimizer(lr)\n",
    "\n",
    "    # Gradient Clipping\n",
    "    gradients = optimizer.compute_gradients(cost)\n",
    "    capped_gradients = [(tf.clip_by_value(grad, -1., 1.), var) for grad, var in gradients if grad is not None]\n",
    "    train_op = optimizer.apply_gradients(capped_gradients)"
   ]
  },
  {
   "cell_type": "markdown",
   "metadata": {
    "deletable": true,
    "editable": true
   },
   "source": [
    "## Train\n",
    "Train the neural network on the preprocessed data.  If you have a hard time getting a good loss, check the [forums](https://discussions.udacity.com/) to see if anyone is having the same problem."
   ]
  },
  {
   "cell_type": "code",
   "execution_count": 67,
   "metadata": {
    "collapsed": false,
    "deletable": true,
    "editable": true,
    "scrolled": false
   },
   "outputs": [
    {
     "name": "stdout",
     "output_type": "stream",
     "text": [
      "Epoch   0 Batch    0/33   train_loss = 8.823\n",
      "Epoch   0 Batch   11/33   train_loss = 6.545\n",
      "Epoch   0 Batch   22/33   train_loss = 6.481\n",
      "Epoch   1 Batch    0/33   train_loss = 6.029\n",
      "Epoch   1 Batch   11/33   train_loss = 5.694\n",
      "Epoch   1 Batch   22/33   train_loss = 5.838\n",
      "Epoch   2 Batch    0/33   train_loss = 5.586\n",
      "Epoch   2 Batch   11/33   train_loss = 5.367\n",
      "Epoch   2 Batch   22/33   train_loss = 5.555\n",
      "Epoch   3 Batch    0/33   train_loss = 5.305\n",
      "Epoch   3 Batch   11/33   train_loss = 5.129\n",
      "Epoch   3 Batch   22/33   train_loss = 5.334\n",
      "Epoch   4 Batch    0/33   train_loss = 5.105\n",
      "Epoch   4 Batch   11/33   train_loss = 4.965\n",
      "Epoch   4 Batch   22/33   train_loss = 5.157\n",
      "Epoch   5 Batch    0/33   train_loss = 4.929\n",
      "Epoch   5 Batch   11/33   train_loss = 4.804\n",
      "Epoch   5 Batch   22/33   train_loss = 4.969\n",
      "Epoch   6 Batch    0/33   train_loss = 4.772\n",
      "Epoch   6 Batch   11/33   train_loss = 4.647\n",
      "Epoch   6 Batch   22/33   train_loss = 4.812\n",
      "Epoch   7 Batch    0/33   train_loss = 4.609\n",
      "Epoch   7 Batch   11/33   train_loss = 4.505\n",
      "Epoch   7 Batch   22/33   train_loss = 4.670\n",
      "Epoch   8 Batch    0/33   train_loss = 4.457\n",
      "Epoch   8 Batch   11/33   train_loss = 4.370\n",
      "Epoch   8 Batch   22/33   train_loss = 4.523\n",
      "Epoch   9 Batch    0/33   train_loss = 4.317\n",
      "Epoch   9 Batch   11/33   train_loss = 4.236\n",
      "Epoch   9 Batch   22/33   train_loss = 4.369\n",
      "Epoch  10 Batch    0/33   train_loss = 4.189\n",
      "Epoch  10 Batch   11/33   train_loss = 4.115\n",
      "Epoch  10 Batch   22/33   train_loss = 4.232\n",
      "Epoch  11 Batch    0/33   train_loss = 4.058\n",
      "Epoch  11 Batch   11/33   train_loss = 3.989\n",
      "Epoch  11 Batch   22/33   train_loss = 4.082\n",
      "Epoch  12 Batch    0/33   train_loss = 3.941\n",
      "Epoch  12 Batch   11/33   train_loss = 3.857\n",
      "Epoch  12 Batch   22/33   train_loss = 3.963\n",
      "Epoch  13 Batch    0/33   train_loss = 3.802\n",
      "Epoch  13 Batch   11/33   train_loss = 3.729\n",
      "Epoch  13 Batch   22/33   train_loss = 3.831\n",
      "Epoch  14 Batch    0/33   train_loss = 3.675\n",
      "Epoch  14 Batch   11/33   train_loss = 3.619\n",
      "Epoch  14 Batch   22/33   train_loss = 3.694\n",
      "Epoch  15 Batch    0/33   train_loss = 3.559\n",
      "Epoch  15 Batch   11/33   train_loss = 3.492\n",
      "Epoch  15 Batch   22/33   train_loss = 3.579\n",
      "Epoch  16 Batch    0/33   train_loss = 3.436\n",
      "Epoch  16 Batch   11/33   train_loss = 3.393\n",
      "Epoch  16 Batch   22/33   train_loss = 3.463\n",
      "Epoch  17 Batch    0/33   train_loss = 3.354\n",
      "Epoch  17 Batch   11/33   train_loss = 3.280\n",
      "Epoch  17 Batch   22/33   train_loss = 3.363\n",
      "Epoch  18 Batch    0/33   train_loss = 3.228\n",
      "Epoch  18 Batch   11/33   train_loss = 3.163\n",
      "Epoch  18 Batch   22/33   train_loss = 3.222\n",
      "Epoch  19 Batch    0/33   train_loss = 3.089\n",
      "Epoch  19 Batch   11/33   train_loss = 3.042\n",
      "Epoch  19 Batch   22/33   train_loss = 3.109\n",
      "Epoch  20 Batch    0/33   train_loss = 2.981\n",
      "Epoch  20 Batch   11/33   train_loss = 2.961\n",
      "Epoch  20 Batch   22/33   train_loss = 3.001\n",
      "Epoch  21 Batch    0/33   train_loss = 2.837\n",
      "Epoch  21 Batch   11/33   train_loss = 2.859\n",
      "Epoch  21 Batch   22/33   train_loss = 2.926\n",
      "Epoch  22 Batch    0/33   train_loss = 2.755\n",
      "Epoch  22 Batch   11/33   train_loss = 2.770\n",
      "Epoch  22 Batch   22/33   train_loss = 2.814\n",
      "Epoch  23 Batch    0/33   train_loss = 2.676\n",
      "Epoch  23 Batch   11/33   train_loss = 2.698\n",
      "Epoch  23 Batch   22/33   train_loss = 2.733\n",
      "Epoch  24 Batch    0/33   train_loss = 2.599\n",
      "Epoch  24 Batch   11/33   train_loss = 2.581\n",
      "Epoch  24 Batch   22/33   train_loss = 2.616\n",
      "Epoch  25 Batch    0/33   train_loss = 2.517\n",
      "Epoch  25 Batch   11/33   train_loss = 2.477\n",
      "Epoch  25 Batch   22/33   train_loss = 2.523\n",
      "Epoch  26 Batch    0/33   train_loss = 2.417\n",
      "Epoch  26 Batch   11/33   train_loss = 2.358\n",
      "Epoch  26 Batch   22/33   train_loss = 2.441\n",
      "Epoch  27 Batch    0/33   train_loss = 2.341\n",
      "Epoch  27 Batch   11/33   train_loss = 2.260\n",
      "Epoch  27 Batch   22/33   train_loss = 2.371\n",
      "Epoch  28 Batch    0/33   train_loss = 2.249\n",
      "Epoch  28 Batch   11/33   train_loss = 2.183\n",
      "Epoch  28 Batch   22/33   train_loss = 2.286\n",
      "Epoch  29 Batch    0/33   train_loss = 2.180\n",
      "Epoch  29 Batch   11/33   train_loss = 2.091\n",
      "Epoch  29 Batch   22/33   train_loss = 2.208\n",
      "Epoch  30 Batch    0/33   train_loss = 2.098\n",
      "Epoch  30 Batch   11/33   train_loss = 2.008\n",
      "Epoch  30 Batch   22/33   train_loss = 2.125\n",
      "Epoch  31 Batch    0/33   train_loss = 2.020\n",
      "Epoch  31 Batch   11/33   train_loss = 1.938\n",
      "Epoch  31 Batch   22/33   train_loss = 2.026\n",
      "Epoch  32 Batch    0/33   train_loss = 1.948\n",
      "Epoch  32 Batch   11/33   train_loss = 1.872\n",
      "Epoch  32 Batch   22/33   train_loss = 1.939\n",
      "Epoch  33 Batch    0/33   train_loss = 1.870\n",
      "Epoch  33 Batch   11/33   train_loss = 1.782\n",
      "Epoch  33 Batch   22/33   train_loss = 1.865\n",
      "Epoch  34 Batch    0/33   train_loss = 1.821\n",
      "Epoch  34 Batch   11/33   train_loss = 1.716\n",
      "Epoch  34 Batch   22/33   train_loss = 1.813\n",
      "Epoch  35 Batch    0/33   train_loss = 1.758\n",
      "Epoch  35 Batch   11/33   train_loss = 1.665\n",
      "Epoch  35 Batch   22/33   train_loss = 1.726\n",
      "Epoch  36 Batch    0/33   train_loss = 1.690\n",
      "Epoch  36 Batch   11/33   train_loss = 1.603\n",
      "Epoch  36 Batch   22/33   train_loss = 1.644\n",
      "Epoch  37 Batch    0/33   train_loss = 1.599\n",
      "Epoch  37 Batch   11/33   train_loss = 1.531\n",
      "Epoch  37 Batch   22/33   train_loss = 1.562\n",
      "Epoch  38 Batch    0/33   train_loss = 1.536\n",
      "Epoch  38 Batch   11/33   train_loss = 1.475\n",
      "Epoch  38 Batch   22/33   train_loss = 1.492\n",
      "Epoch  39 Batch    0/33   train_loss = 1.483\n",
      "Epoch  39 Batch   11/33   train_loss = 1.403\n",
      "Epoch  39 Batch   22/33   train_loss = 1.416\n",
      "Epoch  40 Batch    0/33   train_loss = 1.430\n",
      "Epoch  40 Batch   11/33   train_loss = 1.353\n",
      "Epoch  40 Batch   22/33   train_loss = 1.371\n",
      "Epoch  41 Batch    0/33   train_loss = 1.352\n",
      "Epoch  41 Batch   11/33   train_loss = 1.312\n",
      "Epoch  41 Batch   22/33   train_loss = 1.316\n",
      "Epoch  42 Batch    0/33   train_loss = 1.298\n",
      "Epoch  42 Batch   11/33   train_loss = 1.262\n",
      "Epoch  42 Batch   22/33   train_loss = 1.255\n",
      "Epoch  43 Batch    0/33   train_loss = 1.245\n",
      "Epoch  43 Batch   11/33   train_loss = 1.225\n",
      "Epoch  43 Batch   22/33   train_loss = 1.204\n",
      "Epoch  44 Batch    0/33   train_loss = 1.211\n",
      "Epoch  44 Batch   11/33   train_loss = 1.154\n",
      "Epoch  44 Batch   22/33   train_loss = 1.134\n",
      "Epoch  45 Batch    0/33   train_loss = 1.154\n",
      "Epoch  45 Batch   11/33   train_loss = 1.131\n",
      "Epoch  45 Batch   22/33   train_loss = 1.052\n",
      "Epoch  46 Batch    0/33   train_loss = 1.050\n",
      "Epoch  46 Batch   11/33   train_loss = 1.059\n",
      "Epoch  46 Batch   22/33   train_loss = 1.004\n",
      "Epoch  47 Batch    0/33   train_loss = 0.987\n",
      "Epoch  47 Batch   11/33   train_loss = 0.990\n",
      "Epoch  47 Batch   22/33   train_loss = 0.926\n",
      "Epoch  48 Batch    0/33   train_loss = 0.937\n",
      "Epoch  48 Batch   11/33   train_loss = 0.934\n",
      "Epoch  48 Batch   22/33   train_loss = 0.852\n",
      "Epoch  49 Batch    0/33   train_loss = 0.885\n",
      "Epoch  49 Batch   11/33   train_loss = 0.880\n",
      "Epoch  49 Batch   22/33   train_loss = 0.810\n",
      "Model Trained and Saved\n"
     ]
    }
   ],
   "source": [
    "\"\"\"\n",
    "DON'T MODIFY ANYTHING IN THIS CELL\n",
    "\"\"\"\n",
    "batches = get_batches(int_text, batch_size, seq_length)\n",
    "\n",
    "with tf.Session(graph=train_graph) as sess:\n",
    "    sess.run(tf.global_variables_initializer())\n",
    "\n",
    "    for epoch_i in range(num_epochs):\n",
    "        state = sess.run(initial_state, {input_text: batches[0][0]})\n",
    "\n",
    "        for batch_i, (x, y) in enumerate(batches):\n",
    "            feed = {\n",
    "                input_text: x,\n",
    "                targets: y,\n",
    "                initial_state: state,\n",
    "                lr: learning_rate}\n",
    "            train_loss, state, _ = sess.run([cost, final_state, train_op], feed)\n",
    "\n",
    "            # Show every <show_every_n_batches> batches\n",
    "            if (epoch_i * len(batches) + batch_i) % show_every_n_batches == 0:\n",
    "                print('Epoch {:>3} Batch {:>4}/{}   train_loss = {:.3f}'.format(\n",
    "                    epoch_i,\n",
    "                    batch_i,\n",
    "                    len(batches),\n",
    "                    train_loss))\n",
    "\n",
    "    # Save Model\n",
    "    saver = tf.train.Saver()\n",
    "    saver.save(sess, save_dir)\n",
    "    print('Model Trained and Saved')"
   ]
  },
  {
   "cell_type": "markdown",
   "metadata": {
    "deletable": true,
    "editable": true
   },
   "source": [
    "## Save Parameters\n",
    "Save `seq_length` and `save_dir` for generating a new TV script."
   ]
  },
  {
   "cell_type": "code",
   "execution_count": 68,
   "metadata": {
    "collapsed": true,
    "deletable": true,
    "editable": true
   },
   "outputs": [],
   "source": [
    "\"\"\"\n",
    "DON'T MODIFY ANYTHING IN THIS CELL\n",
    "\"\"\"\n",
    "# Save parameters for checkpoint\n",
    "helper.save_params((seq_length, save_dir))"
   ]
  },
  {
   "cell_type": "markdown",
   "metadata": {
    "deletable": true,
    "editable": true
   },
   "source": [
    "# Checkpoint"
   ]
  },
  {
   "cell_type": "code",
   "execution_count": 69,
   "metadata": {
    "collapsed": true,
    "deletable": true,
    "editable": true
   },
   "outputs": [],
   "source": [
    "\"\"\"\n",
    "DON'T MODIFY ANYTHING IN THIS CELL\n",
    "\"\"\"\n",
    "import tensorflow as tf\n",
    "import numpy as np\n",
    "import helper\n",
    "import problem_unittests as tests\n",
    "\n",
    "_, vocab_to_int, int_to_vocab, token_dict = helper.load_preprocess()\n",
    "seq_length, load_dir = helper.load_params()"
   ]
  },
  {
   "cell_type": "code",
   "execution_count": 70,
   "metadata": {
    "collapsed": false,
    "deletable": true,
    "editable": true
   },
   "outputs": [
    {
     "name": "stdout",
     "output_type": "stream",
     "text": [
      "1.1.0\n"
     ]
    }
   ],
   "source": [
    "## TIVE MT PROBLEMA COM O RAIO DA VERSAO DO TENSORFLOW\n",
    "print (tf.__version__)"
   ]
  },
  {
   "cell_type": "markdown",
   "metadata": {
    "deletable": true,
    "editable": true
   },
   "source": [
    "## Implement Generate Functions\n",
    "### Get Tensors\n",
    "Get tensors from `loaded_graph` using the function [`get_tensor_by_name()`](https://www.tensorflow.org/api_docs/python/tf/Graph#get_tensor_by_name).  Get the tensors using the following names:\n",
    "- \"input:0\"\n",
    "- \"initial_state:0\"\n",
    "- \"final_state:0\"\n",
    "- \"probs:0\"\n",
    "\n",
    "Return the tensors in the following tuple `(InputTensor, InitialStateTensor, FinalStateTensor, ProbsTensor)` "
   ]
  },
  {
   "cell_type": "code",
   "execution_count": 71,
   "metadata": {
    "collapsed": false,
    "deletable": true,
    "editable": true
   },
   "outputs": [
    {
     "name": "stdout",
     "output_type": "stream",
     "text": [
      "Tests Passed\n"
     ]
    }
   ],
   "source": [
    "def get_tensors(loaded_graph):\n",
    "    \"\"\"\n",
    "    Get input, initial state, final state, and probabilities tensor from <loaded_graph>\n",
    "    :param loaded_graph: TensorFlow graph loaded from file\n",
    "    :return: Tuple (InputTensor, InitialStateTensor, FinalStateTensor, ProbsTensor)\n",
    "    \"\"\"\n",
    "    # Implement Function\n",
    "    InputTensor = loaded_graph.get_tensor_by_name(\"input:0\")\n",
    "    InitialStateTensor = loaded_graph.get_tensor_by_name(\"initial_state:0\")\n",
    "    FinalStateTensor = loaded_graph.get_tensor_by_name(\"final_state:0\")\n",
    "    ProbsTensor = loaded_graph.get_tensor_by_name(\"probs:0\")\n",
    "    return InputTensor, InitialStateTensor, FinalStateTensor, ProbsTensor\n",
    "\n",
    "\n",
    "\"\"\"\n",
    "DON'T MODIFY ANYTHING IN THIS CELL THAT IS BELOW THIS LINE\n",
    "\"\"\"\n",
    "tests.test_get_tensors(get_tensors)"
   ]
  },
  {
   "cell_type": "markdown",
   "metadata": {
    "deletable": true,
    "editable": true
   },
   "source": [
    "### Escolher palavra\n",
    "Implemente a função `pick_word ()` para selecionar a próxima palavra usando `probabilities`."
   ]
  },
  {
   "cell_type": "code",
   "execution_count": 72,
   "metadata": {
    "collapsed": false,
    "deletable": true,
    "editable": true
   },
   "outputs": [
    {
     "name": "stdout",
     "output_type": "stream",
     "text": [
      "Tests Passed\n"
     ]
    }
   ],
   "source": [
    "def pick_word(probabilities, int_to_vocab):\n",
    "    \"\"\"\n",
    "    Pick the next word in the generated text\n",
    "    :param probabilities: Probabilites of the next word\n",
    "    :param int_to_vocab: Dictionary of word ids as the keys and words as the values\n",
    "    :return: String of the predicted word\n",
    "    \"\"\"\n",
    "    idx = np.argmax(probabilities)\n",
    "    return int_to_vocab[idx]\n",
    "\n",
    "\n",
    "\"\"\"\n",
    "DON'T MODIFY ANYTHING IN THIS CELL THAT IS BELOW THIS LINE\n",
    "\"\"\"\n",
    "tests.test_pick_word(pick_word)\n",
    "\n"
   ]
  },
  {
   "cell_type": "markdown",
   "metadata": {
    "deletable": true,
    "editable": true
   },
   "source": [
    "## Gerar script de TV\n",
    "Isso irá gerar o script de TV para você. Defina `gen_length` com o comprimento do script de TV que você deseja gerar."
   ]
  },
  {
   "cell_type": "code",
   "execution_count": null,
   "metadata": {
    "collapsed": false,
    "deletable": true,
    "editable": true
   },
   "outputs": [
    {
     "name": "stdout",
     "output_type": "stream",
     "text": [
      "INFO:tensorflow:Restoring parameters from ./save\n",
      "moe_szyslak:(defeated) okay, homer, i got somethin'.\n",
      "barney_gumble:(consulting a big wave)\n",
      "moe_szyslak: what's the matter, moe?\n",
      "homer_simpson:(leans back, thoughtfully) well, i'll take these, but i could whip, but i bet they'd have a kid like me.\n",
      "moe_szyslak: well, somebody's a grumpy gus. what's the matter, homer?\n",
      "moe_szyslak: ah, gee, it ain't no mystery-- he don't know.\n",
      "carny: teacup? how'd that pretty bad friend.\n",
      "moe_szyslak: hey, hey, hey, hey, hey, hey, hey! don't you badmouth this country. compared to me!\n",
      "moe_szyslak: ah, i'm a little busy, i just talk about my beer.\n",
      "moe_szyslak:(musses bart's hair) so, that's a good one, moe. i got a big payday(grabs beer)\n",
      "homer_simpson:(grumpy) yeah, i can't.\n",
      "carl_carlson: no, that's just gasoline and nauseous, but i ain't angry.\n",
      "carl_carlson:(backing away) no, you're a published author!\n",
      "moe_szyslak:(wiping) oh, that's it... homer, i was just drawin' wangs on the numbers.\n",
      "lenny_leonard: yeah, that's true...\n",
      "moe_szyslak: yeah, i can't believe you're the greatest.\n",
      "barney_gumble:(sings) my-y-y-y-y-y adeleine.\n",
      "marge_simpson:(stunned) oh, that's a good one, moe. i didn't mean that.\n",
      "moe_szyslak: yeah, that's the best book... uh, i was just tellin' this...\n",
      "moe_szyslak:(sings) that is knows\n"
     ]
    }
   ],
   "source": [
    "gen_length = 300\n",
    "# homer_simpson, moe_szyslak, or Barney_Gumble\n",
    "prime_word = 'moe_szyslak'\n",
    "\n",
    "\"\"\"\n",
    "DON'T MODIFY ANYTHING IN THIS CELL THAT IS BELOW THIS LINE\n",
    "\"\"\"\n",
    "loaded_graph = tf.Graph()\n",
    "with tf.Session(graph=loaded_graph) as sess:\n",
    "    # Load saved model\n",
    "    loader = tf.train.import_meta_graph(load_dir + '.meta')\n",
    "    loader.restore(sess, load_dir)\n",
    "\n",
    "    # Get Tensors from loaded model\n",
    "    input_text, initial_state, final_state, probs = get_tensors(loaded_graph)\n",
    "\n",
    "    # Sentences generation setup\n",
    "    gen_sentences = [prime_word + ':']\n",
    "    prev_state = sess.run(initial_state, {input_text: np.array([[1]])})\n",
    "\n",
    "    # Generate sentences\n",
    "    for n in range(gen_length):\n",
    "        # Dynamic Input\n",
    "        dyn_input = [[vocab_to_int[word] for word in gen_sentences[-seq_length:]]]\n",
    "        dyn_seq_length = len(dyn_input[0])\n",
    "\n",
    "        # Get Prediction\n",
    "        probabilities, prev_state = sess.run(\n",
    "            [probs, final_state],\n",
    "            {input_text: dyn_input, initial_state: prev_state})\n",
    "        \n",
    "        pred_word = pick_word(probabilities[dyn_seq_length-1], int_to_vocab)\n",
    "\n",
    "        gen_sentences.append(pred_word)\n",
    "    \n",
    "    # Remove tokens\n",
    "    tv_script = ' '.join(gen_sentences)\n",
    "    for key, token in token_dict.items():\n",
    "        ending = ' ' if key in ['\\n', '(', '\"'] else ''\n",
    "        tv_script = tv_script.replace(' ' + token.lower(), key)\n",
    "    tv_script = tv_script.replace('\\n ', '\\n')\n",
    "    tv_script = tv_script.replace('( ', '(')\n",
    "        \n",
    "    print(tv_script)"
   ]
  },
  {
   "cell_type": "markdown",
   "metadata": {
    "deletable": true,
    "editable": true
   },
   "source": [
    "# The TV Script is Nonsensical\n",
    "It's ok if the TV script doesn't make any sense.  We trained on less than a megabyte of text.  In order to get good results, you'll have to use a smaller vocabulary or get more data.  Luckly there's more data!  As we mentioned in the beggining of this project, this is a subset of [another dataset](https://www.kaggle.com/wcukierski/the-simpsons-by-the-data).  We didn't have you train on all the data, because that would take too long.  However, you are free to train your neural network on all the data.  After you complete the project, of course.\n",
    "# Submitting This Project\n",
    "When submitting this project, make sure to run all the cells before saving the notebook. Save the notebook file as \"dlnd_tv_script_generation.ipynb\" and save it as a HTML file under \"File\" -> \"Download as\". Include the \"helper.py\" and \"problem_unittests.py\" files in your submission."
   ]
  }
 ],
 "metadata": {
  "kernelspec": {
   "display_name": "Python 3",
   "language": "python",
   "name": "python3"
  },
  "language_info": {
   "codemirror_mode": {
    "name": "ipython",
    "version": 3
   },
   "file_extension": ".py",
   "mimetype": "text/x-python",
   "name": "python",
   "nbconvert_exporter": "python",
   "pygments_lexer": "ipython3",
   "version": "3.6.7"
  },
  "widgets": {
   "state": {},
   "version": "1.1.2"
  }
 },
 "nbformat": 4,
 "nbformat_minor": 1
}
